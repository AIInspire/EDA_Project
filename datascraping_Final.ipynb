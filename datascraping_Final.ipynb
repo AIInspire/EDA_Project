{
 "cells": [
  {
   "cell_type": "code",
   "execution_count": 7,
   "id": "26d6565e",
   "metadata": {},
   "outputs": [],
   "source": [
    "from selenium import webdriver\n",
    "from selenium.webdriver.common.by import By\n",
    "from selenium.webdriver.common.keys import Keys\n",
    "\n",
    "w=webdriver.Chrome()\n",
    "w.get(\"https://www.tradingview.com/markets/cryptocurrencies/prices-all/\")\n"
   ]
  },
  {
   "cell_type": "code",
   "execution_count": 10,
   "id": "788125fd",
   "metadata": {},
   "outputs": [
    {
     "name": "stdout",
     "output_type": "stream",
     "text": [
      " Data scraped and saved to crypto_prices.csv\n"
     ]
    }
   ],
   "source": [
    "\n",
    "crypto_list = []\n",
    "import pandas as pd\n",
    "table = w.find_element(By.XPATH, \"//table[@class='table-Ngq2xrcG']\")\n",
    "rows = table.find_elements(By.TAG_NAME, \"tr\")\n",
    "\n",
    "for row in rows[1:]:  \n",
    "    try:\n",
    "        columns = row.find_elements(By.TAG_NAME, \"td\")\n",
    "        if len(columns) >= 8:\n",
    "            name = columns[0].text.split(\"\\n\")[0]  \n",
    "            rank = columns[1].text\n",
    "            price = columns[2].text\n",
    "            change = columns[3].text\n",
    "            market_cap = columns[4].text\n",
    "            volume = columns[5].text\n",
    "            circ_supply = columns[6].text\n",
    "            category = columns[7].text\n",
    "            \n",
    "            crypto_list.append([name, rank,price, change, market_cap,volume, circ_supply,category])\n",
    "    except:\n",
    "        continue\n",
    "df = pd.DataFrame(crypto_list, columns=[\"Name\", 'Rank',\"Price\" ,\"24h Change\", 'Market Cap',\"Volume\", 'Circ_Supply',\"Market Cap\"])\n",
    "df.to_csv(\"crypto_prices.csv\", index=False)\n",
    "\n",
    "\n",
    "\n",
    "print(\" Data scraped and saved to crypto_prices.csv\")\n"
   ]
  },
  {
   "cell_type": "code",
   "execution_count": 11,
   "id": "c7bf6580",
   "metadata": {},
   "outputs": [
    {
     "name": "stdout",
     "output_type": "stream",
     "text": [
      "   Name  Rank          Price 24h Change    Market Cap       Volume  \\\n",
      "0   BTC     1  82,551.43 USD     +2.50%    1.64 T USD  47.72 B USD   \n",
      "1   ETH     2   1,916.97 USD     +0.46%   231.2 B USD  25.48 B USD   \n",
      "2  USDT     3    0.99978 USD     −0.00%  143.15 B USD  88.75 B USD   \n",
      "3   XRP     4     2.2038 USD     +4.55%  127.92 B USD   6.58 B USD   \n",
      "4   BNB     5     557.60 USD     +0.04%   79.44 B USD   2.15 B USD   \n",
      "\n",
      "  Circ_Supply                                       Market Cap.1  \n",
      "0     19.84 M                          Cryptocurrencies, Layer 1  \n",
      "1    120.61 M                  Smart contract platforms, Layer 1  \n",
      "2    143.18 B              Stablecoins, Asset-backed Stablecoins  \n",
      "3     58.04 B  Cryptocurrencies, Enterprise solutions, Layer ...  \n",
      "4    142.48 M  Smart contract platforms, Centralized-exchange...  \n"
     ]
    }
   ],
   "source": [
    "import pandas as pd\n",
    "\n",
    "df = pd.read_csv(\"crypto_prices.csv\")\n",
    "\n",
    "# Display the first few rows\n",
    "print(df.head())\n"
   ]
  },
  {
   "cell_type": "code",
   "execution_count": null,
   "id": "3467f9b1",
   "metadata": {},
   "outputs": [],
   "source": []
  }
 ],
 "metadata": {
  "kernelspec": {
   "display_name": "Python 3",
   "language": "python",
   "name": "python3"
  },
  "language_info": {
   "codemirror_mode": {
    "name": "ipython",
    "version": 3
   },
   "file_extension": ".py",
   "mimetype": "text/x-python",
   "name": "python",
   "nbconvert_exporter": "python",
   "pygments_lexer": "ipython3",
   "version": "3.12.7"
  }
 },
 "nbformat": 4,
 "nbformat_minor": 5
}
